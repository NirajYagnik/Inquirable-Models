{
  "nbformat": 4,
  "nbformat_minor": 0,
  "metadata": {
    "colab": {
      "provenance": []
    },
    "kernelspec": {
      "name": "python3",
      "display_name": "Python 3"
    },
    "language_info": {
      "name": "python"
    }
  },
  "cells": [
    {
      "cell_type": "code",
      "execution_count": null,
      "metadata": {
        "id": "B3xe9avpGnv4"
      },
      "outputs": [],
      "source": [
        "import joblib"
      ]
    },
    {
      "cell_type": "code",
      "source": [
        "diabetes_scaler = joblib.load('diabetes_scaler.pkl')\n",
        "diabetes_trainer = joblib.load('diabetes_trainer.pkl')"
      ],
      "metadata": {
        "id": "7eL_XuycGw2h"
      },
      "execution_count": null,
      "outputs": []
    },
    {
      "cell_type": "code",
      "source": [
        "def infer_updated_data(row,scaler, model):\n",
        "  scaled_data_standard = scaler.transform([row])\n",
        "  return model.predict_proba(scaled_data_standard)[:, 1]"
      ],
      "metadata": {
        "id": "UGtLvWn1HYFn"
      },
      "execution_count": 8,
      "outputs": []
    },
    {
      "cell_type": "code",
      "source": [
        "infer_updated_data([98.0, 57.47, 187.75, 34.0, 0.43],diabetes_scaler,diabetes_trainer)"
      ],
      "metadata": {
        "colab": {
          "base_uri": "https://localhost:8080/"
        },
        "id": "Y8UuzSOTJfja",
        "outputId": "c5f6e68a-4b22-48f1-ae98-0987c0bd8938"
      },
      "execution_count": 9,
      "outputs": [
        {
          "output_type": "stream",
          "name": "stderr",
          "text": [
            "/usr/local/lib/python3.10/dist-packages/sklearn/base.py:439: UserWarning: X does not have valid feature names, but RobustScaler was fitted with feature names\n",
            "  warnings.warn(\n"
          ]
        },
        {
          "output_type": "execute_result",
          "data": {
            "text/plain": [
              "array([0.937989])"
            ]
          },
          "metadata": {},
          "execution_count": 9
        }
      ]
    },
    {
      "cell_type": "code",
      "source": [],
      "metadata": {
        "id": "m7BWnH7LJlXb"
      },
      "execution_count": null,
      "outputs": []
    }
  ]
}