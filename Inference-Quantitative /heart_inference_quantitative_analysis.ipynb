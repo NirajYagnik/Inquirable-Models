{
  "nbformat": 4,
  "nbformat_minor": 0,
  "metadata": {
    "colab": {
      "provenance": []
    },
    "kernelspec": {
      "name": "python3",
      "display_name": "Python 3"
    },
    "language_info": {
      "name": "python"
    }
  },
  "cells": [
    {
      "cell_type": "code",
      "execution_count": null,
      "metadata": {
        "id": "B3xe9avpGnv4"
      },
      "outputs": [],
      "source": [
        "import joblib"
      ]
    },
    {
      "cell_type": "code",
      "source": [
        "heart_scaler = joblib.load('heart_scaler.pkl')\n",
        "heart_trainer = joblib.load('heart_trainer.pkl')"
      ],
      "metadata": {
        "id": "7eL_XuycGw2h"
      },
      "execution_count": null,
      "outputs": []
    },
    {
      "cell_type": "code",
      "source": [
        "def infer_updated_data_heart(row,scaler, model):\n",
        "  scaled_data_standard = scaler.transform([row])\n",
        "  return model.predict_proba(scaled_data_standard)[:, 1]"
      ],
      "metadata": {
        "id": "UGtLvWn1HYFn"
      },
      "execution_count": null,
      "outputs": []
    },
    {
      "cell_type": "code",
      "source": [
        "infer_updated_data_heart([0.0, 1.0, 125.0, 140.0, 0.0, 1.0, 237000.0, 0.8, 45.0],heart_scaler,heart_trainer)"
      ],
      "metadata": {
        "colab": {
          "base_uri": "https://localhost:8080/"
        },
        "id": "Y8UuzSOTJfja",
        "outputId": "905370ba-fd3e-4aad-84da-6513085d6de9"
      },
      "execution_count": null,
      "outputs": [
        {
          "output_type": "stream",
          "name": "stderr",
          "text": [
            "/usr/local/lib/python3.10/dist-packages/sklearn/base.py:439: UserWarning: X does not have valid feature names, but StandardScaler was fitted with feature names\n",
            "  warnings.warn(\n"
          ]
        },
        {
          "output_type": "execute_result",
          "data": {
            "text/plain": [
              "array([0.21])"
            ]
          },
          "metadata": {},
          "execution_count": 17
        }
      ]
    },
    {
      "cell_type": "code",
      "source": [],
      "metadata": {
        "id": "m7BWnH7LJlXb"
      },
      "execution_count": null,
      "outputs": []
    }
  ]
}